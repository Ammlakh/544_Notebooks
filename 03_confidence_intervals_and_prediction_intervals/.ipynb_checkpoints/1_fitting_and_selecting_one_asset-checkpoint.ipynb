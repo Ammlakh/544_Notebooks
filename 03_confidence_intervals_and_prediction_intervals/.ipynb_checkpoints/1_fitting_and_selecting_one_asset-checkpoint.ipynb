{
 "cells": [
  {
   "cell_type": "code",
   "execution_count": 9,
   "id": "f90947de-4216-4199-96f0-49e068bc2aa8",
   "metadata": {},
   "outputs": [],
   "source": [
    "import pandas as pd\n",
    "import numpy as np\n",
    "from scipy.stats import norm, t, johnsonsu\n",
    "import requests\n",
    "from io import BytesIO, StringIO\n",
    "from zipfile import ZipFile\n",
    "import properscoring as ps\n",
    "import matplotlib.pyplot as plt\n",
    "import seaborn as sns"
   ]
  },
  {
   "cell_type": "code",
   "execution_count": null,
   "id": "98028526-274b-4422-95b6-e2b4ccf3e91f",
   "metadata": {},
   "outputs": [],
   "source": [
    "# Function for analyzing the factor\n",
    "def analyze_factor(factor_name, fold1, fold2):\n",
    "    # Fit models to fold1\n",
    "    m1 = fold1[factor_name]\n",
    "    params_normal = norm.fit(m1)\n",
    "    params_t = t.fit(m1)\n",
    "    params_johnsonsu = johnsonsu.fit(m1)\n",
    "\n",
    "    # Select among the three models using CRPS on fold2\n",
    "    m2 = fold2[factor_name]\n",
    "\n",
    "    crps_normal = np.mean(ps.crps_ensemble(m2, norm.rvs(*params_normal, size=len(m2))))\n",
    "    crps_t = np.mean(ps.crps_ensemble(m2, t.rvs(*params_t, size=len(m2))))\n",
    "    crps_johnsonsu = np.mean(ps.crps_ensemble(m2, johnsonsu.rvs(*params_johnsonsu, size=len(m2))))\n",
    "\n",
    "    # Report the best model and the fitted parameters\n",
    "    best_model = min([(crps_normal, 'Normal', params_normal),\n",
    "                      (crps_t, 'Student t', params_t),\n",
    "                      (crps_johnsonsu, 'Johnson Su', params_johnsonsu)], key=lambda x: x[0])\n",
    "\n",
    "    print(f\"Best model for {factor_name}: {best_model[1]}\")\n",
    "    print(f\"Fitted parameters for {factor_name}: {best_model[2]}\")\n",
    "\n",
    "    # Compute PIT values for the chosen model on fold 2\n",
    "    if best_model[1] == 'Normal':\n",
    "        cdf_values = norm.cdf(m2, *params_normal)\n",
    "    elif best_model[1] == 'Student t':\n",
    "        cdf_values = t.cdf(m2, *params_t)\n",
    "    elif best_model[1] == 'Johnson Su':\n",
    "        cdf_values = johnsonsu.cdf(m2, *params_johnsonsu)\n",
    "\n",
    "    # Plot PIT values\n",
    "    plt.figure(figsize=(4, 4))\n",
    "\n",
    "    sns.histplot(cdf_values, bins=20, cumulative=True, alpha=0.75)\n",
    "    sns.histplot(cdf_values, bins=20, color='red', alpha=0.75)\n",
    "    plt.title(f'PDF and CDF for PIT Values of the Chosen Model ({factor_name})')\n",
    "\n",
    "    plt.show()"
   ]
  },
  {
   "cell_type": "code",
   "execution_count": 4,
   "id": "1eeed586-a667-47bf-a97b-2d19e9543f87",
   "metadata": {},
   "outputs": [],
   "source": [
    "# Step 1: Download data from Ken French's website\n",
    "url = \"https://mba.tuck.dartmouth.edu/pages/faculty/ken.french/ftp/F-F_Research_Data_Factors_CSV.zip\"\n",
    "response = requests.get(url)\n",
    "\n",
    "with ZipFile(BytesIO(response.content)) as zfile:\n",
    "    with zfile.open('F-F_Research_Data_Factors.CSV') as file:\n",
    "        csv_data = pd.read_csv(file, skiprows=3, index_col=0)\n",
    "\n",
    "# Convert the data to numeric format and drop rows with missing values\n",
    "csv_data = csv_data.apply(pd.to_numeric, errors='coerce').dropna()"
   ]
  },
  {
   "cell_type": "code",
   "execution_count": 5,
   "id": "9e05fa45-7da3-4fe5-b2cb-c55e551e3509",
   "metadata": {},
   "outputs": [],
   "source": [
    "# Step 2: Compute m\n",
    "csv_data['m'] = (csv_data['Mkt-RF']/100) / (1 + csv_data['RF']/100)\n",
    "\n",
    "# Step 3: Split data into folds\n",
    "fold1 = csv_data.loc['192607':'198312']\n",
    "fold2 = csv_data.loc['198301':'201212']\n",
    "fold3 = csv_data.loc['201301':'201812']\n",
    "fold4 = csv_data.loc['201901':]"
   ]
  },
  {
   "cell_type": "code",
   "execution_count": 6,
   "id": "7fb207b2-a751-4b5d-9eab-9819e93a3ab8",
   "metadata": {},
   "outputs": [],
   "source": [
    "# Step 4: Fit models to fold1\n",
    "m1 = fold1['m']\n",
    "params_normal = norm.fit(m1)\n",
    "params_t = t.fit(m1)\n",
    "params_johnsonsu = johnsonsu.fit(m1)"
   ]
  },
  {
   "cell_type": "code",
   "execution_count": 7,
   "id": "007dea9e-6076-444f-81bf-14c754b160b7",
   "metadata": {},
   "outputs": [
    {
     "name": "stdout",
     "output_type": "stream",
     "text": [
      "Best model: Student t\n",
      "Fitted parameters: (3.4521298217216843, 0.008635493468786549, 0.03801716366296638)\n"
     ]
    }
   ],
   "source": [
    "# Step 5: Select among the three models using CRPS on fold2\n",
    "m2 = fold2['m']\n",
    "\n",
    "crps_normal = np.mean(ps.crps_ensemble(m2, norm.rvs(*params_normal, size=len(m2))))\n",
    "crps_t = np.mean(ps.crps_ensemble(m2, t.rvs(*params_t, size=len(m2))))\n",
    "crps_johnsonsu = np.mean(ps.crps_ensemble(m2, johnsonsu.rvs(*params_johnsonsu, size=len(m2))))\n",
    "\n",
    "# Step 6: Report the best model and the fitted parameters\n",
    "best_model = min([(crps_normal, 'Normal', params_normal),\n",
    "                  (crps_t, 'Student t', params_t),\n",
    "                  (crps_johnsonsu, 'Johnson Su', params_johnsonsu)], key=lambda x: x[0])\n",
    "\n",
    "print(f\"Best model: {best_model[1]}\")\n",
    "print(f\"Fitted parameters: {best_model[2]}\")"
   ]
  },
  {
   "cell_type": "code",
   "execution_count": 28,
   "id": "a4dd0d39-19d5-477b-a7b7-37281a7a6b35",
   "metadata": {},
   "outputs": [],
   "source": [
    "import warnings\n",
    "warnings.filterwarnings(\"ignore\")"
   ]
  },
  {
   "cell_type": "code",
   "execution_count": 29,
   "id": "e67514b1-cadc-46b2-8184-43effb82bb36",
   "metadata": {},
   "outputs": [],
   "source": [
    "# Step 7: Compute PIT values for the chosen model on fold 2\n",
    "if best_model[1] == 'Normal':\n",
    "    cdf_values = norm.cdf(m2, *params_normal)\n",
    "elif best_model[1] == 'Student t':\n",
    "    cdf_values = t.cdf(m2, *params_t)\n",
    "elif best_model[1] == 'Johnson Su':\n",
    "    cdf_values = johnsonsu.cdf(m2, *params_johnsonsu)"
   ]
  },
  {
   "cell_type": "code",
   "execution_count": 30,
   "id": "fef7a8c9-780f-48f8-a66b-1894afed7725",
   "metadata": {},
   "outputs": [
    {
     "data": {
      "image/png": "[encoded data removed]",
      "text/plain": [
       "<Figure size 400x400 with 1 Axes>"
      ]
     },
     "metadata": {},
     "output_type": "display_data"
    }
   ],
   "source": [
    "# Step 8: Plot PIT values\n",
    "plt.figure(figsize=(4, 4))\n",
    "\n",
    "sns.histplot(cdf_values, bins=20, cumulative=True, alpha=0.75)\n",
    "sns.histplot(cdf_values, bins=20, color='red', alpha=0.75)\n",
    "plt.title('PDF and CDF for PIT Values of the Chosen Model')\n",
    "\n",
    "plt.show()"
   ]
  },
  {
   "cell_type": "code",
   "execution_count": null,
   "id": "b16a6148-0f53-4690-8bc7-174e82c69cbc",
   "metadata": {},
   "outputs": [],
   "source": []
  }
 ],
 "metadata": {
  "kernelspec": {
   "display_name": "Python 3 (ipykernel)",
   "language": "python",
   "name": "python3"
  },
  "language_info": {
   "codemirror_mode": {
    "name": "ipython",
    "version": 3
   },
   "file_extension": ".py",
   "mimetype": "text/x-python",
   "name": "python",
   "nbconvert_exporter": "python",
   "pygments_lexer": "ipython3",
   "version": "3.12.2"
  }
 },
 "nbformat": 4,
 "nbformat_minor": 5
}
